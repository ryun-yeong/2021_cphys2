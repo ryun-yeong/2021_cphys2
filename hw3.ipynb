{
 "cells": [
  {
   "cell_type": "code",
   "execution_count": 33,
   "id": "8bf7b8b8",
   "metadata": {},
   "outputs": [],
   "source": [
    "import numpy as np\n",
    "import matplotlib.pyplot as plt"
   ]
  },
  {
   "cell_type": "code",
   "execution_count": 34,
   "id": "a44e99bd",
   "metadata": {},
   "outputs": [
    {
     "name": "stdout",
     "output_type": "stream",
     "text": [
      "1 1 0 0\n"
     ]
    },
    {
     "data": {
      "text/plain": [
       "([4, 6], -4)"
      ]
     },
     "execution_count": 34,
     "metadata": {},
     "output_type": "execute_result"
    }
   ],
   "source": [
    "t =[0,1,1,1]\n",
    "X =[[0,0],[1,0],[0,1],[1,1]]\n",
    "y =[0,1,1,0]\n",
    "w = [1,2]\n",
    "b = 1\n",
    "np.dot(w,X[1])+b\n",
    "def perc(X):\n",
    "    f = np.dot(w,X)+b\n",
    "    if f>=0:\n",
    "        y=1\n",
    "    else:\n",
    "        y=0\n",
    "    return y\n",
    "n=0.1\n",
    "w = [0,-1] #초기조건\n",
    "b = 0\n",
    "print(perc(X[0]),perc(X[1]),perc(X[2]),perc(X[3]))\n",
    "for n in range(1000):\n",
    "    error_sum = 0\n",
    "    for i in range(4):\n",
    "        error = t[i]-perc(X[i])\n",
    "        error_sum = error_sum + abs(error)\n",
    "        w[0] = w[0] + n*error*X[i][0]\n",
    "        w[1] = w[1] + n*error*X[i][1]\n",
    "        b = b + n*error\n",
    "    if(error_sum==0):\n",
    "        break\n",
    "w,b"
   ]
  },
  {
   "cell_type": "code",
   "execution_count": 35,
   "id": "78310b78",
   "metadata": {},
   "outputs": [
    {
     "data": {
      "text/plain": [
       "(0, 1, 1, 1)"
      ]
     },
     "execution_count": 35,
     "metadata": {},
     "output_type": "execute_result"
    }
   ],
   "source": [
    "perc(X[0]),perc(X[1]),perc(X[2]),perc(X[3])"
   ]
  },
  {
   "cell_type": "code",
   "execution_count": 36,
   "id": "1ea5b621",
   "metadata": {},
   "outputs": [
    {
     "data": {
      "text/plain": [
       "['sepal length (cm)',\n",
       " 'sepal width (cm)',\n",
       " 'petal length (cm)',\n",
       " 'petal width (cm)']"
      ]
     },
     "execution_count": 36,
     "metadata": {},
     "output_type": "execute_result"
    }
   ],
   "source": [
    "from sklearn import datasets\n",
    "iris = datasets.load_iris()\n",
    "iris.target_names\n",
    "iris.feature_names"
   ]
  },
  {
   "cell_type": "code",
   "execution_count": 37,
   "id": "299aa448",
   "metadata": {},
   "outputs": [],
   "source": [
    "x = iris.data"
   ]
  },
  {
   "cell_type": "code",
   "execution_count": 38,
   "id": "c2098358",
   "metadata": {},
   "outputs": [
    {
     "data": {
      "text/plain": [
       "array(['setosa', 'versicolor', 'virginica'], dtype='<U10')"
      ]
     },
     "execution_count": 38,
     "metadata": {},
     "output_type": "execute_result"
    }
   ],
   "source": [
    "iris.target_names"
   ]
  },
  {
   "cell_type": "code",
   "execution_count": 39,
   "id": "a9e42e0f",
   "metadata": {},
   "outputs": [],
   "source": [
    "t = np.where(iris.target>0,1,0)"
   ]
  },
  {
   "cell_type": "code",
   "execution_count": 40,
   "id": "c55218f9",
   "metadata": {},
   "outputs": [
    {
     "data": {
      "text/plain": [
       "array([0, 0, 0, 0, 0, 0, 0, 0, 0, 0, 0, 0, 0, 0, 0, 0, 0, 0, 0, 0, 0, 0,\n",
       "       0, 0, 0, 0, 0, 0, 0, 0, 0, 0, 0, 0, 0, 0, 0, 0, 0, 0, 0, 0, 0, 0,\n",
       "       0, 0, 0, 0, 0, 0, 1, 1, 1, 1, 1, 1, 1, 1, 1, 1, 1, 1, 1, 1, 1, 1,\n",
       "       1, 1, 1, 1, 1, 1, 1, 1, 1, 1, 1, 1, 1, 1, 1, 1, 1, 1, 1, 1, 1, 1,\n",
       "       1, 1, 1, 1, 1, 1, 1, 1, 1, 1, 1, 1, 2, 2, 2, 2, 2, 2, 2, 2, 2, 2,\n",
       "       2, 2, 2, 2, 2, 2, 2, 2, 2, 2, 2, 2, 2, 2, 2, 2, 2, 2, 2, 2, 2, 2,\n",
       "       2, 2, 2, 2, 2, 2, 2, 2, 2, 2, 2, 2, 2, 2, 2, 2, 2, 2])"
      ]
     },
     "execution_count": 40,
     "metadata": {},
     "output_type": "execute_result"
    }
   ],
   "source": [
    "iris.target"
   ]
  },
  {
   "cell_type": "code",
   "execution_count": 41,
   "id": "89a50cff",
   "metadata": {},
   "outputs": [],
   "source": [
    "w = [1,2,3,4]\n",
    "def perc(X):\n",
    "    f = np.dot(w,X)+b\n",
    "    if f>=0:\n",
    "        y=1\n",
    "    else:\n",
    "        y=0\n",
    "    return y\n",
    "t = np.where(iris.target>0,1,0)"
   ]
  },
  {
   "cell_type": "code",
   "execution_count": 42,
   "id": "0b84ccbd",
   "metadata": {},
   "outputs": [
    {
     "data": {
      "text/plain": [
       "([-5.4999999999999964, -18.499999999999996, 29.0, 14.999999999999996], -5)"
      ]
     },
     "execution_count": 42,
     "metadata": {},
     "output_type": "execute_result"
    }
   ],
   "source": [
    "t = np.where(iris.target>0,1,0)\n",
    "x = iris.data\n",
    "w = [1,2,3,4]\n",
    "b = 1\n",
    "np.dot(w,x[1])+b\n",
    "def perc(X):\n",
    "    f = np.dot(w,X)+b\n",
    "    if f>=0:\n",
    "        y=1\n",
    "    else:\n",
    "        y=0\n",
    "    return y\n",
    "n=0.1\n",
    "b = 0\n",
    "for n in range(1000):\n",
    "    error_sum = 0\n",
    "    for i in range(150):\n",
    "        error = t[i]- perc(x[i])\n",
    "        error_sum = error_sum + abs(error)\n",
    "        w[0] = w[0] + n*error*x[i][0]\n",
    "        w[1] = w[1] + n*error*x[i][1]\n",
    "        w[2] = w[2] + n*error*x[i][2]\n",
    "        w[3] = w[3] + n*error*x[i][3]\n",
    "        b = b + n*error\n",
    "    if(error_sum==0):\n",
    "        break\n",
    "w,b"
   ]
  },
  {
   "cell_type": "code",
   "execution_count": 43,
   "id": "7e119209",
   "metadata": {},
   "outputs": [],
   "source": [
    "for i in range(150):\n",
    "    if perc(x[i]) != t[i]:\n",
    "        print ('틀렸다')"
   ]
  },
  {
   "cell_type": "code",
   "execution_count": null,
   "id": "e0c29f15",
   "metadata": {},
   "outputs": [],
   "source": []
  }
 ],
 "metadata": {
  "kernelspec": {
   "display_name": "Python 3",
   "language": "python",
   "name": "python3"
  },
  "language_info": {
   "codemirror_mode": {
    "name": "ipython",
    "version": 3
   },
   "file_extension": ".py",
   "mimetype": "text/x-python",
   "name": "python",
   "nbconvert_exporter": "python",
   "pygments_lexer": "ipython3",
   "version": "3.8.8"
  }
 },
 "nbformat": 4,
 "nbformat_minor": 5
}
