{
 "cells": [
  {
   "cell_type": "code",
   "execution_count": 1,
   "id": "b14f8926",
   "metadata": {},
   "outputs": [],
   "source": [
    "import numpy as np\n",
    "X = ([[0,0,0,1],[0,1,0,1],[1,1,1,1]])\n",
    "t = ([0,1,1,0])\n",
    "w = ([[-1,1,0,-1],[-1,0,1,0],[0,0,-1,1]])\n",
    "om = 2*np.random.random((4,4))-1\n",
    "eta = 1\n",
    "def f(X):\n",
    "    return 1/(1+np.exp(-X))\n",
    "neth = np.zeros(4)\n",
    "dh = [0,0,0,0]"
   ]
  },
  {
   "cell_type": "code",
   "execution_count": 2,
   "id": "95423967",
   "metadata": {},
   "outputs": [
    {
     "name": "stdout",
     "output_type": "stream",
     "text": [
      "[0.63288093 0.55844149 0.38867734 0.33103927]\n",
      "[0.00482667 0.99510963 0.99509153 0.004852  ]\n"
     ]
    }
   ],
   "source": [
    "for k in range(10000):\n",
    "    E = 0\n",
    "    for i in range(4):\n",
    "        for j in range(3):\n",
    "            neth[j] = X[j][i]*w[j][i]+X[j][i]*w[j][i]+X[j][i]*w[j][i]\n",
    "    h = f(neth)\n",
    "    neto = np.dot(h,om)\n",
    "    o = f(neto)\n",
    "    if k==1:\n",
    "        print(o)\n",
    "    E = E+(o-t)**2\n",
    "    do = (o-t)*f(neto)*(1-f(neto))\n",
    "    for p in range(4):\n",
    "        om[p] = om[p]-eta*do*h[p]\n",
    "        dh[p] = do*om[p]*f(neth[p])*(1-f(neth[p]))\n",
    "    for u in range(3):\n",
    "        for a in range(4):\n",
    "            w[u][a] = w[u][a] - eta*X[u][a]*dh[u][a]\n",
    "        #wij = wij - etha*deltaj+xi\n",
    "    #do*omega j*f'(net(h))*xi\n",
    "print (o)"
   ]
  },
  {
   "cell_type": "code",
   "execution_count": 3,
   "id": "8762e0bf",
   "metadata": {},
   "outputs": [
    {
     "name": "stdout",
     "output_type": "stream",
     "text": [
      "[0. 1. 1. 0.]\n"
     ]
    }
   ],
   "source": [
    "for i in range(4):\n",
    "    if o[i] >= 0.5:\n",
    "        o[i] = 1\n",
    "    else:\n",
    "        o[i] = 0\n",
    "print(o)"
   ]
  },
  {
   "cell_type": "code",
   "execution_count": null,
   "id": "2535bd62",
   "metadata": {},
   "outputs": [],
   "source": []
  }
 ],
 "metadata": {
  "kernelspec": {
   "display_name": "Python 3",
   "language": "python",
   "name": "python3"
  },
  "language_info": {
   "codemirror_mode": {
    "name": "ipython",
    "version": 3
   },
   "file_extension": ".py",
   "mimetype": "text/x-python",
   "name": "python",
   "nbconvert_exporter": "python",
   "pygments_lexer": "ipython3",
   "version": "3.8.8"
  }
 },
 "nbformat": 4,
 "nbformat_minor": 5
}
