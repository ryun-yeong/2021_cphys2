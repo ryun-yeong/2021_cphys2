{
 "cells": [
  {
   "cell_type": "code",
   "execution_count": 1,
   "id": "240dc25d",
   "metadata": {},
   "outputs": [],
   "source": [
    "import numpy as np\n",
    "import matplotlib.pyplot as plt\n",
    "import torch\n",
    "import torchvision"
   ]
  },
  {
   "cell_type": "code",
   "execution_count": 2,
   "id": "a8c941d8",
   "metadata": {},
   "outputs": [],
   "source": [
    "train_data = torchvision.datasets.MNIST(\n",
    "    root = 'data',\n",
    "    train = True,                         \n",
    "    transform = torchvision.transforms.ToTensor(), \n",
    "    download = True,            \n",
    ")\n",
    "test_data = torchvision.datasets.MNIST(\n",
    "    root = 'data', \n",
    "    train = False, \n",
    "    transform = torchvision.transforms.ToTensor()\n",
    ")"
   ]
  },
  {
   "cell_type": "code",
   "execution_count": 3,
   "id": "462e32be",
   "metadata": {},
   "outputs": [],
   "source": [
    "x = torch.flatten(train_data.data/256,start_dim=1).float()\n",
    "y = train_data.targets"
   ]
  },
  {
   "cell_type": "code",
   "execution_count": 4,
   "id": "947c42b1",
   "metadata": {},
   "outputs": [],
   "source": [
    "din, dh, dout = 784,256,10 # input, hidden, output layer의 노드 수\n",
    "model = torch.nn.Sequential(\n",
    "    torch.nn.Linear(din,dh), #input에서 hidden layer로\n",
    "    torch.nn.ReLU(),\n",
    "    torch.nn.Linear(dh,dh),\n",
    "    torch.nn.ReLU(),\n",
    "    torch.nn.Linear(dh,dout), #hidden에서 output layer로\n",
    "    torch.nn.Softmax(dim = 1)\n",
    ")"
   ]
  },
  {
   "cell_type": "code",
   "execution_count": 5,
   "id": "d74cc12b",
   "metadata": {},
   "outputs": [],
   "source": [
    "learning_rate = 0.01\n",
    "criterion = torch.nn.CrossEntropyLoss()\n",
    "optimizer = torch.optim.Adam(model.parameters(), lr = learning_rate)"
   ]
  },
  {
   "cell_type": "code",
   "execution_count": 6,
   "id": "c719d464",
   "metadata": {},
   "outputs": [],
   "source": [
    "loss_list = np.zeros(600)\n",
    "for epoch in range(600):\n",
    "    y_pred = model(x)\n",
    "    loss = criterion(y_pred, y)\n",
    "    loss_list[epoch] = loss\n",
    "    optimizer.zero_grad()\n",
    "    loss.backward()\n",
    "    optimizer.step()"
   ]
  },
  {
   "cell_type": "code",
   "execution_count": 7,
   "id": "85af030f",
   "metadata": {},
   "outputs": [
    {
     "data": {
      "text/plain": [
       "tensor(0.9916)"
      ]
     },
     "execution_count": 7,
     "metadata": {},
     "output_type": "execute_result"
    }
   ],
   "source": [
    "prediction=y_pred.max(1)[1]\n",
    "correct = (prediction == y)\n",
    "accuracy = correct.sum()/y.size(0)\n",
    "accuracy"
   ]
  },
  {
   "cell_type": "code",
   "execution_count": 8,
   "id": "dc9b519d",
   "metadata": {},
   "outputs": [],
   "source": [
    "X = torch.flatten(test_data.data/256,start_dim=1).float()\n",
    "Y = test_data.targets"
   ]
  },
  {
   "cell_type": "code",
   "execution_count": 9,
   "id": "76fc34b1",
   "metadata": {},
   "outputs": [
    {
     "data": {
      "text/plain": [
       "tensor(0.9732)"
      ]
     },
     "execution_count": 9,
     "metadata": {},
     "output_type": "execute_result"
    }
   ],
   "source": [
    "Y_pred = model(X)\n",
    "prediction=Y_pred.max(1)[1]\n",
    "correct = (prediction == Y)\n",
    "accuracy = correct.sum()/Y.size(0)\n",
    "accuracy"
   ]
  },
  {
   "cell_type": "code",
   "execution_count": 10,
   "id": "be82f75e",
   "metadata": {},
   "outputs": [
    {
     "data": {
      "text/plain": [
       "[<matplotlib.lines.Line2D at 0x7f81e393c550>]"
      ]
     },
     "execution_count": 10,
     "metadata": {},
     "output_type": "execute_result"
    },
    {
     "data": {
      "image/png": "[encoded data removed]",
      "text/plain": [
       "<Figure size 432x288 with 1 Axes>"
      ]
     },
     "metadata": {
      "needs_background": "light"
     },
     "output_type": "display_data"
    }
   ],
   "source": [
    "plt.plot(loss_list)\n",
    "# loss가 200번 반복 이상에서는 거의 줄어들지 않아 200번을 넘어버린다면 overfitting의 가능성이 있어 200번으로 했습니다."
   ]
  },
  {
   "cell_type": "code",
   "execution_count": 18,
   "id": "ac0412e4",
   "metadata": {},
   "outputs": [],
   "source": [
    "x = torch.flatten(train_data.data/256,start_dim=1).float()\n",
    "y = train_data.targets"
   ]
  },
  {
   "cell_type": "code",
   "execution_count": 19,
   "id": "493d7d98",
   "metadata": {},
   "outputs": [],
   "source": [
    "for epoch in range(200):\n",
    "    y_pred = model(x)\n",
    "    loss = criterion(y_pred, y)\n",
    "    optimizer.zero_grad()\n",
    "    loss.backward()\n",
    "    optimizer.step()"
   ]
  },
  {
   "cell_type": "code",
   "execution_count": 20,
   "id": "e87bb6af",
   "metadata": {},
   "outputs": [
    {
     "data": {
      "text/plain": [
       "tensor(0.9926)"
      ]
     },
     "execution_count": 20,
     "metadata": {},
     "output_type": "execute_result"
    }
   ],
   "source": [
    "prediction=y_pred.max(1)[1]\n",
    "correct = (prediction == y)\n",
    "accuracy = correct.sum()/y.size(0)\n",
    "accuracy"
   ]
  },
  {
   "cell_type": "code",
   "execution_count": 21,
   "id": "b37723c3",
   "metadata": {},
   "outputs": [],
   "source": [
    "X = torch.flatten(test_data.data/256,start_dim=1).float()\n",
    "Y = test_data.targets"
   ]
  },
  {
   "cell_type": "code",
   "execution_count": 22,
   "id": "e7433116",
   "metadata": {},
   "outputs": [
    {
     "data": {
      "text/plain": [
       "tensor(0.9730)"
      ]
     },
     "execution_count": 22,
     "metadata": {},
     "output_type": "execute_result"
    }
   ],
   "source": [
    "Y_pred = model(X)\n",
    "prediction=Y_pred.max(1)[1]\n",
    "correct = (prediction == Y)\n",
    "accuracy = correct.sum()/Y.size(0)\n",
    "accuracy"
   ]
  },
  {
   "cell_type": "code",
   "execution_count": null,
   "id": "7b8a3d65",
   "metadata": {},
   "outputs": [],
   "source": []
  }
 ],
 "metadata": {
  "kernelspec": {
   "display_name": "Python 3",
   "language": "python",
   "name": "python3"
  },
  "language_info": {
   "codemirror_mode": {
    "name": "ipython",
    "version": 3
   },
   "file_extension": ".py",
   "mimetype": "text/x-python",
   "name": "python",
   "nbconvert_exporter": "python",
   "pygments_lexer": "ipython3",
   "version": "3.8.8"
  }
 },
 "nbformat": 4,
 "nbformat_minor": 5
}
