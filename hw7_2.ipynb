{
 "cells": [
  {
   "cell_type": "code",
   "execution_count": 1,
   "id": "00afc86f",
   "metadata": {},
   "outputs": [],
   "source": [
    "import torch\n",
    "import torch.nn as nn\n",
    "import torch.nn.functional as F\n",
    "import torch.optim as optim\n",
    "from torch.utils.data import Dataset, DataLoader\n",
    "\n",
    "import torchvision\n",
    "import torchvision.datasets\n",
    "import torchvision.transforms as transforms\n",
    "\n",
    "import numpy as np\n",
    "import matplotlib.pyplot as plt\n",
    "plt.style.use('seaborn-white')"
   ]
  },
  {
   "cell_type": "code",
   "execution_count": 2,
   "id": "1fc28f95",
   "metadata": {},
   "outputs": [
    {
     "name": "stdout",
     "output_type": "stream",
     "text": [
      "Files already downloaded and verified\n",
      "Files already downloaded and verified\n"
     ]
    },
    {
     "data": {
      "text/plain": [
       "['airplane',\n",
       " 'automobile',\n",
       " 'bird',\n",
       " 'cat',\n",
       " 'deer',\n",
       " 'dog',\n",
       " 'frog',\n",
       " 'horse',\n",
       " 'ship',\n",
       " 'truck']"
      ]
     },
     "execution_count": 2,
     "metadata": {},
     "output_type": "execute_result"
    }
   ],
   "source": [
    "batch_size = 4\n",
    "\n",
    "trainset = torchvision.datasets.CIFAR10(\n",
    "    root='./data', \n",
    "    train=True,\n",
    "    download=True, \n",
    "    transform=torchvision.transforms.ToTensor()\n",
    ")\n",
    "train_loader = torch.utils.data.DataLoader(\n",
    "    trainset, \n",
    "    batch_size=batch_size,\n",
    "    shuffle=True\n",
    ")\n",
    "\n",
    "testset = torchvision.datasets.CIFAR10(\n",
    "    root='./data', \n",
    "    train=False,\n",
    "    download=True, \n",
    "    transform=torchvision.transforms.ToTensor()\n",
    ")\n",
    "test_loader = torch.utils.data.DataLoader(\n",
    "    testset, \n",
    "    batch_size=batch_size,\n",
    "    shuffle=False\n",
    ")\n",
    "\n",
    "classes = trainset.classes\n",
    "classes"
   ]
  },
  {
   "cell_type": "code",
   "execution_count": 3,
   "id": "d06c309e",
   "metadata": {},
   "outputs": [
    {
     "data": {
      "text/plain": [
       "<matplotlib.image.AxesImage at 0x7f95f3bc6970>"
      ]
     },
     "execution_count": 3,
     "metadata": {},
     "output_type": "execute_result"
    },
    {
     "data": {
      "image/png": "[encoded data removed]",
      "text/plain": [
       "<Figure size 432x288 with 1 Axes>"
      ]
     },
     "metadata": {},
     "output_type": "display_data"
    }
   ],
   "source": [
    "import matplotlib.pyplot as plt\n",
    "\n",
    "images=train_loader.dataset[1][0]\n",
    "plt.imshow(images.permute(1, 2, 0))"
   ]
  },
  {
   "cell_type": "code",
   "execution_count": 4,
   "id": "9f018e25",
   "metadata": {},
   "outputs": [
    {
     "data": {
      "text/plain": [
       "torch.Size([3, 32, 32])"
      ]
     },
     "execution_count": 4,
     "metadata": {},
     "output_type": "execute_result"
    }
   ],
   "source": [
    "images.size()"
   ]
  },
  {
   "cell_type": "code",
   "execution_count": 5,
   "id": "ba1c592e",
   "metadata": {},
   "outputs": [],
   "source": [
    "import torch.nn as nn\n",
    "import torch.nn.functional as F\n",
    "\n",
    "\n",
    "class Net(nn.Module):\n",
    "    def __init__(self):\n",
    "        super().__init__()\n",
    "        self.conv1 = nn.Conv2d(3, 6, 5) #3개의 색 채널을 인풋으로, 아웃풋 6개, cunel size = 5\n",
    "        self.pool = nn.MaxPool2d(2, 2)#size를 줄인다.\n",
    "        self.conv2 = nn.Conv2d(6, 16, 5) #6개의 인풋, 16개 아웃풋, cunel size = 5\n",
    "        self.fc1 = nn.Linear(16 * 5 * 5, 120) #fully connected layer\n",
    "        self.fc2 = nn.Linear(120, 84) #인풋은 이전 과정의 아웃풋에 맞춤\n",
    "        self.fc3 = nn.Linear(84, 10)\n",
    "\n",
    "    def forward(self, x):\n",
    "        x = self.pool(F.relu(self.conv1(x)))\n",
    "        x = self.pool(F.relu(self.conv2(x)))\n",
    "        x = torch.flatten(x, 1) # 배치를 뺀 차원을 평탄화(flatten)한다.\n",
    "        x = F.relu(self.fc1(x))\n",
    "        x = F.relu(self.fc2(x))\n",
    "        x = self.fc3(x)\n",
    "        return x\n",
    "\n",
    "\n",
    "net = Net()"
   ]
  },
  {
   "cell_type": "code",
   "execution_count": 6,
   "id": "12a7d399",
   "metadata": {},
   "outputs": [],
   "source": [
    "import torch.optim as optim\n",
    "\n",
    "criterion = nn.CrossEntropyLoss()\n",
    "optimizer = optim.SGD(net.parameters(), lr=0.001, momentum=0.9)\n",
    "#CrossEntropyLoss를 사용하고 optimizer로 SGD사용, lerning late는 0.001로 momentum=0.9로 로컬미니멈을 피한다."
   ]
  },
  {
   "cell_type": "code",
   "execution_count": 7,
   "id": "8cd7d411",
   "metadata": {},
   "outputs": [
    {
     "name": "stdout",
     "output_type": "stream",
     "text": [
      "[1,  2000] loss: 2.242\n",
      "[1,  4000] loss: 2.024\n",
      "[1,  6000] loss: 1.894\n",
      "[1,  8000] loss: 1.757\n",
      "[1, 10000] loss: 1.645\n",
      "[1, 12000] loss: 1.556\n",
      "[2,  2000] loss: 1.510\n",
      "[2,  4000] loss: 1.481\n",
      "[2,  6000] loss: 1.460\n",
      "[2,  8000] loss: 1.425\n",
      "[2, 10000] loss: 1.397\n",
      "[2, 12000] loss: 1.379\n",
      "[3,  2000] loss: 1.327\n",
      "[3,  4000] loss: 1.331\n",
      "[3,  6000] loss: 1.320\n",
      "[3,  8000] loss: 1.307\n",
      "[3, 10000] loss: 1.313\n",
      "[3, 12000] loss: 1.306\n",
      "Finished\n"
     ]
    }
   ],
   "source": [
    "for epoch in range(3): #3 번 반복한다.\n",
    "\n",
    "    running_loss = 0.0 #오차를 초기화한다.\n",
    "    for i, data in enumerate(train_loader, 0): #데이터를 가져와서 하나씩 분할하겠다.\n",
    "        inputs, labels = data #그림4개(batch size)를 인풋 , 오른쪽에 클래스를 label로 넣겠다.\n",
    "\n",
    "        optimizer.zero_grad() #grad를 초기화시킨다.\n",
    "\n",
    "       \n",
    "        outputs = net(inputs)#forward\n",
    "        loss = criterion(outputs, labels)#loss계산\n",
    "        loss.backward()#loss backpropagation\n",
    "        optimizer.step() # optimizer로 최적화한다.\n",
    "\n",
    "        \n",
    "        running_loss += loss.item() #최종 loss구하기\n",
    "        if i % 2000 == 1999:    #2000번에 한 번씩 loss를 출력한다.\n",
    "            print('[%d, %5d] loss: %.3f' %\n",
    "                  (epoch + 1, i + 1, running_loss / 2000))\n",
    "            running_loss = 0.0\n",
    "\n",
    "print('Finished')"
   ]
  },
  {
   "cell_type": "code",
   "execution_count": 8,
   "id": "d39b23c9",
   "metadata": {},
   "outputs": [
    {
     "name": "stdout",
     "output_type": "stream",
     "text": [
      "Accuracy of the network on the 10000 test images: 54 %\n"
     ]
    }
   ],
   "source": [
    "correct = 0 \n",
    "total = 0 #correct, total 0으로 초기화\n",
    "with torch.no_grad(): #테스트니 그래디언트를 안씀\n",
    "    for data in test_loader: # test data사용\n",
    "        images, labels = data\n",
    "        outputs = net(images)\n",
    "        _, predicted = torch.max(outputs.data, 1) #test data로 prediction\n",
    "        total += labels.size(0)\n",
    "        correct += (predicted == labels).sum().item()\n",
    "\n",
    "print('Accuracy of the network on the 10000 test images: %d %%' % (\n",
    "    100 * correct / total)) #정확도 출력"
   ]
  },
  {
   "cell_type": "markdown",
   "id": "80823e83",
   "metadata": {},
   "source": [
    "batch를 4개로 사용하고 convolution layer로 conv2d를 사용했다.\n",
    "rgb로 conv1에서는 인풋에 3개의 채널을 사용했고 두 개의 convolution layer사이에 pooling을 수행했다.\n",
    "lerning rate를 작게 사용하고 local minimum을 피하기위해 momentum을 조금 사용했으며 training 중에는 2000번에 한 번씩 loss를 출력해 loss가 줄어드는 것을 확인했다.\n",
    "test 데이터를 사용해서 트레이닝의 정확도를 출력했다.\n",
    "epoch를 2~4까지 변화시키며 해봤지만 그 때 그 때 정확도가 가장 높은 epoch가 바뀌는 것으로 보아 momentum의 문제인가 생각했지만 큰 차이가 나지않아서 momentum은 그냥 0.9로 사용했습니다.\n",
    "\n"
   ]
  },
  {
   "cell_type": "code",
   "execution_count": null,
   "id": "6f940084",
   "metadata": {},
   "outputs": [],
   "source": []
  }
 ],
 "metadata": {
  "kernelspec": {
   "display_name": "Python 3",
   "language": "python",
   "name": "python3"
  },
  "language_info": {
   "codemirror_mode": {
    "name": "ipython",
    "version": 3
   },
   "file_extension": ".py",
   "mimetype": "text/x-python",
   "name": "python",
   "nbconvert_exporter": "python",
   "pygments_lexer": "ipython3",
   "version": "3.8.8"
  }
 },
 "nbformat": 4,
 "nbformat_minor": 5
}
